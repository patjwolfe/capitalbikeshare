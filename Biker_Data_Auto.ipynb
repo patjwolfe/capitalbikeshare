{
 "cells": [
  {
   "cell_type": "code",
   "execution_count": 15,
   "metadata": {},
   "outputs": [],
   "source": [
    "# This notebook runs separate from the master notebook to be able to generate a data set out of the \n",
    "# Bikeshare API which has data different from the historical bikeshare data\n",
    "# The realtime information provides data on the status of the bike stations\n",
    "# This can then be aggregated to look at the history of bike stations and gain insights\n",
    "import json\n",
    "import pandas as pd\n",
    "import datetime\n",
    "from pprint import pprint\n",
    "import time"
   ]
  },
  {
   "cell_type": "code",
   "execution_count": 16,
   "metadata": {},
   "outputs": [],
   "source": [
    "#Create a series of lists to populate from the BikeShare API\n",
    "address = []\n",
    "term_id = []\n",
    "lat = []\n",
    "lng = []\n",
    "num_bikes = []\n",
    "num_empty_docks = []\n",
    "obj_id = []\n",
    "term_num = []\n",
    "time_stamp = []\n",
    "\n",
    "biker_data = {\"time\":time_stamp,\"term_id\": term_id, \"address\": address, \"lat\": lat, \"long\": lng, \"num_bikes\":num_bikes,\"num_empty_docks\":num_empty_docks, \"obj_id\":obj_id,\"term_num\":term_num}\n",
    "biker_data = pd.DataFrame(biker_data)\n",
    "\n",
    "with open('bike_data.csv', 'w') as f:\n",
    "    biker_data.to_csv(f, header=True,index=False)"
   ]
  },
  {
   "cell_type": "code",
   "execution_count": 17,
   "metadata": {},
   "outputs": [],
   "source": [
    "#This function makes a call to the bikeshare API and saves the desired data fields to the previously created lists\n",
    "#The lists are then made into a data frame that is appended to a .csv without the headers\n",
    "#This was done as a function so the .csv could capture continuously streaming data to make a historical data set\n",
    "def BikerData():\n",
    "\n",
    "    url = \"https://maps2.dcgis.dc.gov/dcgis/rest/services/DCGIS_DATA/Transportation_WebMercator/MapServer/5/query?where=1%3D1&outFields=OBJECTID,ID,ADDRESS,TERMINAL_NUMBER,LATITUDE,LONGITUDE,NUMBER_OF_BIKES,NUMBER_OF_EMPTY_DOCKS&outSR=4326&f=json\"\n",
    "\n",
    "    response = requests.get(url)\n",
    "    data = response.json()\n",
    " \n",
    "    now = datetime.datetime.now()\n",
    "    time = pd.Timestamp(now.year,now.month,now.day,now.hour,now.minute)\n",
    "    for index,item in enumerate(data[\"features\"]):\n",
    "        address.append(data[\"features\"][index][\"attributes\"][\"ADDRESS\"])\n",
    "        term_id.append(data[\"features\"][index][\"attributes\"][\"ID\"])\n",
    "        lat.append(data[\"features\"][index][\"attributes\"][\"LATITUDE\"])\n",
    "        lng.append(data[\"features\"][index][\"attributes\"][\"LONGITUDE\"])\n",
    "        num_bikes.append(data[\"features\"][index][\"attributes\"][\"NUMBER_OF_BIKES\"])\n",
    "        num_empty_docks.append(data[\"features\"][index][\"attributes\"][\"NUMBER_OF_EMPTY_DOCKS\"])\n",
    "        obj_id.append(data[\"features\"][index][\"attributes\"][\"OBJECTID\"])\n",
    "        term_num.append(data[\"features\"][index][\"attributes\"][\"TERMINAL_NUMBER\"])\n",
    "        time_stamp.append(time)\n",
    "\n",
    "    biker_data = {\"time\":time_stamp,\"term_id\": term_id, \"address\": address, \"lat\": lat, \"long\": lng, \"num_bikes\":num_bikes,\"num_empty_docks\":num_empty_docks, \"obj_id\":obj_id,\"term_num\":term_num}\n",
    "\n",
    "    biker_data = pd.DataFrame(biker_data)\n",
    "\n",
    "    with open('bike_data.csv', 'a') as f:\n",
    "        biker_data.to_csv(f, header=False,index=False)\n"
   ]
  },
  {
   "cell_type": "code",
   "execution_count": 18,
   "metadata": {},
   "outputs": [],
   "source": [
    "# This code creates a function that will continuously make the API call at a given interval\n",
    "def periodic_work(interval):\n",
    "    while True:\n",
    "        #change this to the function you want to call, or paste in the code you want to run\n",
    "        BikerData()\n",
    "        #interval should be an integer, the number of seconds to wait\n",
    "        time.sleep(interval)"
   ]
  },
  {
   "cell_type": "code",
   "execution_count": null,
   "metadata": {},
   "outputs": [],
   "source": [
    "# Make the API call every 3 minutes (180 seconds)\n",
    "periodic_work(180)"
   ]
  },
  {
   "cell_type": "code",
   "execution_count": null,
   "metadata": {},
   "outputs": [],
   "source": []
  }
 ],
 "metadata": {
  "kernelspec": {
   "display_name": "Python 3",
   "language": "python",
   "name": "python3"
  },
  "language_info": {
   "codemirror_mode": {
    "name": "ipython",
    "version": 3
   },
   "file_extension": ".py",
   "mimetype": "text/x-python",
   "name": "python",
   "nbconvert_exporter": "python",
   "pygments_lexer": "ipython3",
   "version": "3.7.0"
  }
 },
 "nbformat": 4,
 "nbformat_minor": 2
}
