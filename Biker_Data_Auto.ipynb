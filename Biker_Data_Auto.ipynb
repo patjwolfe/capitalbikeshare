{
 "cells": [
  {
   "cell_type": "code",
   "execution_count": 10,
   "metadata": {},
   "outputs": [],
   "source": [
    "#### has to be separate notebook\n",
    "import requests\n",
    "import json\n",
    "import pandas as pd\n",
    "import datetime\n",
    "from pprint import pprint\n",
    "import time"
   ]
  },
  {
   "cell_type": "code",
   "execution_count": 11,
   "metadata": {},
   "outputs": [],
   "source": [
    "address = []\n",
    "term_id = []\n",
    "lat = []\n",
    "lng = []\n",
    "num_bikes = []\n",
    "num_empty_docks = []\n",
    "obj_id = []\n",
    "term_num = []\n",
    "time_stamp = []\n",
    "\n",
    "biker_data = {\"time\":time_stamp,\"term_id\": term_id, \"address\": address, \"lat\": lat, \"long\": lng, \"num_bikes\":num_bikes,\"num_empty_docks\":num_empty_docks, \"obj_id\":obj_id,\"term_num\":term_num}\n",
    "biker_data = pd.DataFrame(biker_data)\n",
    "\n",
    "with open('bike_data.csv', 'w') as f:\n",
    "    biker_data.to_csv(f, header=True,index=False)"
   ]
  },
  {
   "cell_type": "code",
   "execution_count": 12,
   "metadata": {},
   "outputs": [],
   "source": [
    "def BikerData():\n",
    "\n",
    "    url = \"https://maps2.dcgis.dc.gov/dcgis/rest/services/DCGIS_DATA/Transportation_WebMercator/MapServer/5/query?where=1%3D1&outFields=OBJECTID,ID,ADDRESS,TERMINAL_NUMBER,LATITUDE,LONGITUDE,NUMBER_OF_BIKES,NUMBER_OF_EMPTY_DOCKS&outSR=4326&f=json\"\n",
    "\n",
    "    response = requests.get(url)\n",
    "    data = response.json()\n",
    " \n",
    "    now = datetime.datetime.now()\n",
    "    time = pd.Timestamp(now.year,now.month,now.day,now.hour,now.minute)\n",
    "    for index,item in enumerate(data[\"features\"]):\n",
    "        address.append(data[\"features\"][index][\"attributes\"][\"ADDRESS\"])\n",
    "        term_id.append(data[\"features\"][index][\"attributes\"][\"ID\"])\n",
    "        lat.append(data[\"features\"][index][\"attributes\"][\"LATITUDE\"])\n",
    "        lng.append(data[\"features\"][index][\"attributes\"][\"LONGITUDE\"])\n",
    "        num_bikes.append(data[\"features\"][index][\"attributes\"][\"NUMBER_OF_BIKES\"])\n",
    "        num_empty_docks.append(data[\"features\"][index][\"attributes\"][\"NUMBER_OF_EMPTY_DOCKS\"])\n",
    "        obj_id.append(data[\"features\"][index][\"attributes\"][\"OBJECTID\"])\n",
    "        term_num.append(data[\"features\"][index][\"attributes\"][\"TERMINAL_NUMBER\"])\n",
    "        time_stamp.append(time)\n",
    "\n",
    "    biker_data = {\"time\":time_stamp,\"term_id\": term_id, \"address\": address, \"lat\": lat, \"long\": lng, \"num_bikes\":num_bikes,\"num_empty_docks\":num_empty_docks, \"obj_id\":obj_id,\"term_num\":term_num}\n",
    "\n",
    "    biker_data = pd.DataFrame(biker_data)\n",
    "\n",
    "    with open('bike_data.csv', 'a') as f:\n",
    "        biker_data.to_csv(f, header=False,index=False)\n"
   ]
  },
  {
   "cell_type": "code",
   "execution_count": 13,
   "metadata": {},
   "outputs": [],
   "source": [
    "def periodic_work(interval):\n",
    "    while True:\n",
    "        #change this to the function you want to call, or paste in the code you want to run\n",
    "        BikerData()\n",
    "        #interval should be an integer, the number of seconds to wait\n",
    "        time.sleep(interval)"
   ]
  },
  {
   "cell_type": "code",
   "execution_count": 14,
   "metadata": {},
   "outputs": [
    {
     "ename": "KeyboardInterrupt",
     "evalue": "",
     "output_type": "error",
     "traceback": [
      "\u001b[0;31m---------------------------------------------------------------------------\u001b[0m",
      "\u001b[0;31mKeyboardInterrupt\u001b[0m                         Traceback (most recent call last)",
      "\u001b[0;32m<ipython-input-14-7407e9a3dd8d>\u001b[0m in \u001b[0;36m<module>\u001b[0;34m()\u001b[0m\n\u001b[0;32m----> 1\u001b[0;31m \u001b[0mperiodic_work\u001b[0m\u001b[0;34m(\u001b[0m\u001b[0;36m180\u001b[0m\u001b[0;34m)\u001b[0m\u001b[0;34m\u001b[0m\u001b[0m\n\u001b[0m",
      "\u001b[0;32m<ipython-input-13-8d764ebd46fb>\u001b[0m in \u001b[0;36mperiodic_work\u001b[0;34m(interval)\u001b[0m\n\u001b[1;32m      4\u001b[0m         \u001b[0mBikerData\u001b[0m\u001b[0;34m(\u001b[0m\u001b[0;34m)\u001b[0m\u001b[0;34m\u001b[0m\u001b[0m\n\u001b[1;32m      5\u001b[0m         \u001b[0;31m#interval should be an integer, the number of seconds to wait\u001b[0m\u001b[0;34m\u001b[0m\u001b[0;34m\u001b[0m\u001b[0m\n\u001b[0;32m----> 6\u001b[0;31m         \u001b[0mtime\u001b[0m\u001b[0;34m.\u001b[0m\u001b[0msleep\u001b[0m\u001b[0;34m(\u001b[0m\u001b[0minterval\u001b[0m\u001b[0;34m)\u001b[0m\u001b[0;34m\u001b[0m\u001b[0m\n\u001b[0m",
      "\u001b[0;31mKeyboardInterrupt\u001b[0m: "
     ]
    }
   ],
   "source": [
    "periodic_work(180)"
   ]
  },
  {
   "cell_type": "code",
   "execution_count": null,
   "metadata": {},
   "outputs": [],
   "source": []
  }
 ],
 "metadata": {
  "kernelspec": {
   "display_name": "Python 3",
   "language": "python",
   "name": "python3"
  },
  "language_info": {
   "codemirror_mode": {
    "name": "ipython",
    "version": 3
   },
   "file_extension": ".py",
   "mimetype": "text/x-python",
   "name": "python",
   "nbconvert_exporter": "python",
   "pygments_lexer": "ipython3",
   "version": "3.7.0"
  }
 },
 "nbformat": 4,
 "nbformat_minor": 2
}
