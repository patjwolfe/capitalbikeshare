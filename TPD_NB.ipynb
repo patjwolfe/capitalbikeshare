{
 "cells": [
  {
   "cell_type": "code",
   "execution_count": 1,
   "metadata": {},
   "outputs": [],
   "source": [
    "###### ADD THIS TO MASTER FILE\n",
    "\n",
    "\n",
    "import requests\n",
    "import json\n",
    "import pandas as pd\n",
    "import datetime\n",
    "from pprint import pprint\n",
    "import gmaps\n",
    "import gmaps.datasets\n",
    "import math\n",
    "import time\n",
    "\n",
    "from config import gkey\n",
    "gmaps.configure(api_key=gkey)"
   ]
  },
  {
   "cell_type": "code",
   "execution_count": 2,
   "metadata": {},
   "outputs": [],
   "source": [
    "csv_file = \"bike_data_auto.csv\"\n",
    "bike_api = pd.read_csv(csv_file)"
   ]
  },
  {
   "cell_type": "code",
   "execution_count": 3,
   "metadata": {},
   "outputs": [],
   "source": [
    "#with open('bike_data.csv', 'w') as f:\n",
    "#    biker_data.to_csv(f, header=True,index=False)"
   ]
  },
  {
   "cell_type": "code",
   "execution_count": 4,
   "metadata": {},
   "outputs": [],
   "source": [
    "#with open('bike_data.csv', 'a') as f:\n",
    "#   biker_data.to_csv(f, header=False,index=False)"
   ]
  },
  {
   "cell_type": "code",
   "execution_count": 5,
   "metadata": {},
   "outputs": [
    {
     "name": "stdout",
     "output_type": "stream",
     "text": [
      "35046\n"
     ]
    }
   ],
   "source": [
    "print(len(bike_api))"
   ]
  },
  {
   "cell_type": "code",
   "execution_count": 6,
   "metadata": {},
   "outputs": [
    {
     "data": {
      "text/plain": [
       "<pandas.core.groupby.groupby.DataFrameGroupBy object at 0x116832588>"
      ]
     },
     "execution_count": 6,
     "metadata": {},
     "output_type": "execute_result"
    }
   ],
   "source": [
    "bike_api.groupby(['term_num'])"
   ]
  },
  {
   "cell_type": "code",
   "execution_count": 7,
   "metadata": {},
   "outputs": [],
   "source": [
    "#casual_hour = m.loc[m['Member type'] == 'Casual', :].groupby('Hour')['Bike number'].count()\n",
    "zero_bikes = bike_api.loc[bike_api['num_bikes'] == 0, :].groupby('term_num').first()\n",
    "one_bike = bike_api.loc[bike_api['num_bikes'] == 1, :].groupby('term_num').first()"
   ]
  },
  {
   "cell_type": "code",
   "execution_count": 8,
   "metadata": {},
   "outputs": [
    {
     "data": {
      "text/html": [
       "<div>\n",
       "<style scoped>\n",
       "    .dataframe tbody tr th:only-of-type {\n",
       "        vertical-align: middle;\n",
       "    }\n",
       "\n",
       "    .dataframe tbody tr th {\n",
       "        vertical-align: top;\n",
       "    }\n",
       "\n",
       "    .dataframe thead th {\n",
       "        text-align: right;\n",
       "    }\n",
       "</style>\n",
       "<table border=\"1\" class=\"dataframe\">\n",
       "  <thead>\n",
       "    <tr style=\"text-align: right;\">\n",
       "      <th></th>\n",
       "      <th>time</th>\n",
       "      <th>term_id</th>\n",
       "      <th>address</th>\n",
       "      <th>lat</th>\n",
       "      <th>long</th>\n",
       "      <th>num_bikes</th>\n",
       "      <th>num_empty_docks</th>\n",
       "      <th>obj_id</th>\n",
       "    </tr>\n",
       "    <tr>\n",
       "      <th>term_num</th>\n",
       "      <th></th>\n",
       "      <th></th>\n",
       "      <th></th>\n",
       "      <th></th>\n",
       "      <th></th>\n",
       "      <th></th>\n",
       "      <th></th>\n",
       "      <th></th>\n",
       "    </tr>\n",
       "  </thead>\n",
       "  <tbody>\n",
       "    <tr>\n",
       "      <th>31099</th>\n",
       "      <td>2019-01-21 10:35:00</td>\n",
       "      <td>382</td>\n",
       "      <td>Madison &amp; N Henry St</td>\n",
       "      <td>38.813485</td>\n",
       "      <td>-77.049468</td>\n",
       "      <td>0</td>\n",
       "      <td>15</td>\n",
       "      <td>238900308</td>\n",
       "    </tr>\n",
       "    <tr>\n",
       "      <th>31123</th>\n",
       "      <td>2019-01-21 10:35:00</td>\n",
       "      <td>397</td>\n",
       "      <td>14th &amp; Girard St NW</td>\n",
       "      <td>38.925284</td>\n",
       "      <td>-77.032375</td>\n",
       "      <td>0</td>\n",
       "      <td>22</td>\n",
       "      <td>238900323</td>\n",
       "    </tr>\n",
       "    <tr>\n",
       "      <th>31201</th>\n",
       "      <td>2019-01-21 10:35:00</td>\n",
       "      <td>23</td>\n",
       "      <td>15th &amp; P St NW</td>\n",
       "      <td>38.909850</td>\n",
       "      <td>-77.034438</td>\n",
       "      <td>0</td>\n",
       "      <td>13</td>\n",
       "      <td>238900385</td>\n",
       "    </tr>\n",
       "    <tr>\n",
       "      <th>31226</th>\n",
       "      <td>2019-01-21 10:35:00</td>\n",
       "      <td>90</td>\n",
       "      <td>34th St &amp; Wisconsin Ave NW</td>\n",
       "      <td>38.916442</td>\n",
       "      <td>-77.068200</td>\n",
       "      <td>0</td>\n",
       "      <td>9</td>\n",
       "      <td>238898752</td>\n",
       "    </tr>\n",
       "    <tr>\n",
       "      <th>31503</th>\n",
       "      <td>2019-01-21 13:45:00</td>\n",
       "      <td>61</td>\n",
       "      <td>Florida Ave &amp; R St NW</td>\n",
       "      <td>38.912600</td>\n",
       "      <td>-77.013500</td>\n",
       "      <td>0</td>\n",
       "      <td>15</td>\n",
       "      <td>238920440</td>\n",
       "    </tr>\n",
       "    <tr>\n",
       "      <th>31506</th>\n",
       "      <td>2019-01-21 12:51:00</td>\n",
       "      <td>147</td>\n",
       "      <td>1st &amp; Rhode Island Ave NW</td>\n",
       "      <td>38.915417</td>\n",
       "      <td>-77.012289</td>\n",
       "      <td>0</td>\n",
       "      <td>15</td>\n",
       "      <td>238913774</td>\n",
       "    </tr>\n",
       "  </tbody>\n",
       "</table>\n",
       "</div>"
      ],
      "text/plain": [
       "                         time  term_id                     address        lat  \\\n",
       "term_num                                                                        \n",
       "31099     2019-01-21 10:35:00      382        Madison & N Henry St  38.813485   \n",
       "31123     2019-01-21 10:35:00      397         14th & Girard St NW  38.925284   \n",
       "31201     2019-01-21 10:35:00       23              15th & P St NW  38.909850   \n",
       "31226     2019-01-21 10:35:00       90  34th St & Wisconsin Ave NW  38.916442   \n",
       "31503     2019-01-21 13:45:00       61       Florida Ave & R St NW  38.912600   \n",
       "31506     2019-01-21 12:51:00      147   1st & Rhode Island Ave NW  38.915417   \n",
       "\n",
       "               long  num_bikes  num_empty_docks     obj_id  \n",
       "term_num                                                    \n",
       "31099    -77.049468          0               15  238900308  \n",
       "31123    -77.032375          0               22  238900323  \n",
       "31201    -77.034438          0               13  238900385  \n",
       "31226    -77.068200          0                9  238898752  \n",
       "31503    -77.013500          0               15  238920440  \n",
       "31506    -77.012289          0               15  238913774  "
      ]
     },
     "execution_count": 8,
     "metadata": {},
     "output_type": "execute_result"
    }
   ],
   "source": [
    "zero_bikes"
   ]
  },
  {
   "cell_type": "code",
   "execution_count": 9,
   "metadata": {},
   "outputs": [
    {
     "data": {
      "application/vnd.jupyter.widget-view+json": {
       "model_id": "cd3c53c529b543749139fee12be2fa39",
       "version_major": 2,
       "version_minor": 0
      },
      "text/plain": [
       "Figure(layout=FigureLayout(height='420px'))"
      ]
     },
     "metadata": {},
     "output_type": "display_data"
    }
   ],
   "source": [
    "one_bike_layer = gmaps.symbol_layer(one_bike[['lat', 'long']], fill_color='red', stroke_color='red', scale=4)\n",
    "#marker_layer_end = gmaps.symbol_layer(routes_ten[['End Lat', 'End Long']].head(50), fill_color='red', stroke_color='red', scale=3)\n",
    "\n",
    "fig = gmaps.figure()\n",
    "fig.add_layer(one_bike_layer)\n",
    "fig"
   ]
  },
  {
   "cell_type": "code",
   "execution_count": 10,
   "metadata": {},
   "outputs": [
    {
     "data": {
      "application/vnd.jupyter.widget-view+json": {
       "model_id": "7f3377ece6594170bc23bd97718348fe",
       "version_major": 2,
       "version_minor": 0
      },
      "text/plain": [
       "Figure(layout=FigureLayout(height='420px'))"
      ]
     },
     "metadata": {},
     "output_type": "display_data"
    }
   ],
   "source": [
    "#bike_locations = [zero_bikes['lat'] for bikes in zero_bikes]\n",
    "info_box_template = \"\"\"\n",
    "<dl>\n",
    "<dt>Address</dt><dd>(zero_bikes['address'])</dd>\n",
    "<dt>Number Docks</dt><dd>(zero_bikes['num_empty_docks'])</dd>\n",
    "</dl>\n",
    "\"\"\"\n",
    "#bike_info = [info_box_template.format(*bikes) for bikes in zero_bikes]\n",
    "\n",
    "zero_bikes_layer = gmaps.symbol_layer(zero_bikes[['lat', 'long']], fill_color='red', stroke_color='red', scale=4, \\\n",
    "                                      info_box_content=[f\"Address: {c['address']} <br/>Num Docks: {c['num_empty_docks']}\" for i, c in zero_bikes.iterrows()])\n",
    "fig = gmaps.figure()\n",
    "fig.add_layer(zero_bikes_layer)\n",
    "fig"
   ]
  },
  {
   "cell_type": "code",
   "execution_count": null,
   "metadata": {},
   "outputs": [],
   "source": []
  },
  {
   "cell_type": "code",
   "execution_count": null,
   "metadata": {},
   "outputs": [],
   "source": []
  }
 ],
 "metadata": {
  "kernelspec": {
   "display_name": "Python 3",
   "language": "python",
   "name": "python3"
  },
  "language_info": {
   "codemirror_mode": {
    "name": "ipython",
    "version": 3
   },
   "file_extension": ".py",
   "mimetype": "text/x-python",
   "name": "python",
   "nbconvert_exporter": "python",
   "pygments_lexer": "ipython3",
   "version": "3.7.0"
  }
 },
 "nbformat": 4,
 "nbformat_minor": 2
}
